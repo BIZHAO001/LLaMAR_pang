{
 "cells": [
  {
   "cell_type": "code",
   "execution_count": null,
   "metadata": {},
   "outputs": [],
   "source": [
    "import os\n",
    "import ast\n",
    "from PIL import Image\n",
    "from pathlib import Path\n",
    "import pandas as pd\n",
    "import sys\n",
    "from pathlib import Path\n",
    "\n",
    "# set parent directory to address relative imports\n",
    "directory = Path(os.getcwd()).absolute()\n",
    "sys.path.append(str(directory.parent.parent.parent))\n",
    "\n",
    "from AI2Thor.env_new import AI2ThorEnv\n",
    "from AI2Thor.base_env import convert_dict_to_string\n",
    "from thortils.navigation import find_navigation_plan, get_shortest_path_to_object\n",
    "from pprint import pprint\n",
    "\n",
    "\n",
    "os.environ[\"TOKENIZERS_PARALLELISM\"] = \"true\"\n",
    "\n",
    "class Config:\n",
    "    def __init__(self):\n",
    "        self.num_agents = 2\n",
    "        self.scene = \"FloorPlan1\"\n",
    "        self.scene_name = \"FloorPlan1\"\n",
    "        self.model = \"gpt-4\"\n",
    "        self.use_langchain = False\n",
    "        self.use_strict_format = True\n",
    "        self.use_obs_summariser = False\n",
    "        self.use_act_summariser = False\n",
    "        self.use_action_failure = True\n",
    "        self.use_subtask = True\n",
    "        self.use_future_message = True\n",
    "        self.forceAction = False\n",
    "        self.use_memory = True\n",
    "        self.use_plan = True\n",
    "        self.use_separate_memory = False\n",
    "        self.use_shared_memory = True\n",
    "        self.temperature = 0.7\n",
    "config = Config()\n",
    "\n",
    "# initialise the environment\n",
    "env = AI2ThorEnv(config)\n",
    "# reset the environment with a new task\n",
    "d = env.reset(task=\"Put bread lettuce tomato fridge\")"
   ]
  },
  {
   "cell_type": "code",
   "execution_count": null,
   "metadata": {},
   "outputs": [],
   "source": [
    "directory = Path(os.getcwd()).absolute()\n",
    "traj_path_csv = directory.parent / 'results/Act/' / env.action_dir_path / str(\"trajectory.csv\")\n",
    "df = pd.read_csv(traj_path_csv)\n",
    "df"
   ]
  },
  {
   "cell_type": "code",
   "execution_count": null,
   "metadata": {},
   "outputs": [],
   "source": [
    "for action in df['Action']:\n",
    "    action = ast.literal_eval(action)\n",
    "    d, action_successes = env.step(action)\n",
    "    pprint(f\"action_successes\\n {action_successes}\\n\")"
   ]
  },
  {
   "cell_type": "code",
   "execution_count": null,
   "metadata": {},
   "outputs": [],
   "source": [
    "action = 'Move(Right)'\n",
    "actions = ['Idle', action]\n",
    "d, action_successes = env.step(actions)\n",
    "pprint(f\"action_successes\\n {action_successes}\\n\")"
   ]
  },
  {
   "cell_type": "code",
   "execution_count": null,
   "metadata": {},
   "outputs": [],
   "source": [
    "from AI2Thor.object_actions import all_actions, get_closest_feasible_action\n",
    "action = [\"look up by angle 60\", \"switch object off faucet\"]\n",
    "print(get_closest_feasible_action(\"look up by angle 90\"))\n",
    "pprint(all_actions)"
   ]
  }
 ],
 "metadata": {
  "kernelspec": {
   "display_name": "urop_env",
   "language": "python",
   "name": "python3"
  },
  "language_info": {
   "codemirror_mode": {
    "name": "ipython",
    "version": 3
   },
   "file_extension": ".py",
   "mimetype": "text/x-python",
   "name": "python",
   "nbconvert_exporter": "python",
   "pygments_lexer": "ipython3",
   "version": "3.12.2"
  }
 },
 "nbformat": 4,
 "nbformat_minor": 2
}
